{
 "cells": [
  {
   "cell_type": "markdown",
   "metadata": {},
   "source": [
    "### Welcome to Week 6 Day 3!\n",
    "\n",
    "Let's experiment with a bunch more MCP Servers"
   ]
  },
  {
   "cell_type": "code",
   "execution_count": 1,
   "metadata": {},
   "outputs": [
    {
     "data": {
      "text/plain": [
       "True"
      ]
     },
     "execution_count": 1,
     "metadata": {},
     "output_type": "execute_result"
    }
   ],
   "source": [
    "from dotenv import load_dotenv\n",
    "from agents import Agent, Runner, trace\n",
    "from agents.mcp import MCPServerStdio\n",
    "import os\n",
    "from IPython.display import Markdown, display\n",
    "from datetime import datetime\n",
    "load_dotenv(override=True)"
   ]
  },
  {
   "cell_type": "markdown",
   "metadata": {},
   "source": [
    "### The first type of MCP Server: runs locally, everything local\n",
    "\n",
    "Here's a really interesting one: a knowledge-graph based memory.\n",
    "\n",
    "It's a persistent memory store of entities, observations about them, and relationships between them.\n",
    "\n",
    "https://github.com/modelcontextprotocol/servers/tree/main/src/memory\n"
   ]
  },
  {
   "cell_type": "code",
   "execution_count": 2,
   "metadata": {},
   "outputs": [
    {
     "data": {
      "text/plain": [
       "[Tool(name='create_entities', description='Create new entities with observations', inputSchema={'$schema': 'http://json-schema.org/draft-07/schema#', 'type': 'object', 'properties': {'entities': {'type': 'array', 'items': {'type': 'object', 'properties': {'name': {'type': 'string'}, 'entityType': {'type': 'string'}, 'observations': {'type': 'array', 'items': {'type': 'string'}}}, 'required': ['name', 'entityType', 'observations']}}}, 'required': ['entities']}, annotations=None, title='Create new entities with observations'),\n",
       " Tool(name='search_nodes', description='Search for entities and their relations using text search with relevance ranking', inputSchema={'$schema': 'http://json-schema.org/draft-07/schema#', 'type': 'object', 'properties': {'query': {'type': 'string'}, 'limit': {'type': 'number'}}, 'required': ['query']}, annotations=None, title='Search for entities and their relations using text search with relevance ranking'),\n",
       " Tool(name='read_graph', description='Get recent entities and their relations', inputSchema={'type': 'object', 'properties': {}}, annotations=None, title='Get recent entities and their relations'),\n",
       " Tool(name='create_relations', description='Create relations between entities', inputSchema={'$schema': 'http://json-schema.org/draft-07/schema#', 'type': 'object', 'properties': {'relations': {'type': 'array', 'items': {'type': 'object', 'properties': {'source': {'type': 'string'}, 'target': {'type': 'string'}, 'type': {'type': 'string'}}, 'required': ['source', 'target', 'type']}}}, 'required': ['relations']}, annotations=None, title='Create relations between entities'),\n",
       " Tool(name='delete_entity', description='Delete an entity and all its associated data (observations and relations)', inputSchema={'$schema': 'http://json-schema.org/draft-07/schema#', 'type': 'object', 'properties': {'name': {'type': 'string'}}, 'required': ['name']}, annotations=None, title='Delete an entity and all its associated data (observations and relations)'),\n",
       " Tool(name='delete_relation', description='Delete a specific relation between entities', inputSchema={'$schema': 'http://json-schema.org/draft-07/schema#', 'type': 'object', 'properties': {'source': {'type': 'string'}, 'target': {'type': 'string'}, 'type': {'type': 'string'}}, 'required': ['source', 'target', 'type']}, annotations=None, title='Delete a specific relation between entities')]"
      ]
     },
     "execution_count": 2,
     "metadata": {},
     "output_type": "execute_result"
    }
   ],
   "source": [
    "from agents.mcp.server import MCPServerStdio\n",
    "import os, shutil\n",
    "\n",
    "# Ensure the memory directory exists\n",
    "os.makedirs(\"memory\", exist_ok=True)\n",
    "\n",
    "# Resolve absolute path to npx\n",
    "npx_path = shutil.which(\"npx\")\n",
    "if not npx_path:\n",
    "    # Try common Homebrew locations on macOS\n",
    "    for p in (\"/opt/homebrew/bin/npx\", \"/usr/local/bin/npx\"):\n",
    "        if os.path.exists(p):\n",
    "            npx_path = p\n",
    "            break\n",
    "if not npx_path:\n",
    "    raise RuntimeError(\"npx not found on PATH. Install Node >=18 and ensure npx is available.\")\n",
    "\n",
    "# Inherit current env; add LIBSQL_URL\n",
    "env = dict(os.environ)\n",
    "env[\"LIBSQL_URL\"] = \"file:./memory/ed.db\"\n",
    "\n",
    "params = {\n",
    "    \"command\": npx_path,\n",
    "    \"args\": [\"--yes\", \"mcp-memory-libsql\", \"--stdio\"],\n",
    "    \"env\": env,\n",
    "}\n",
    "\n",
    "async with MCPServerStdio(params=params, client_session_timeout_seconds=180) as server:\n",
    "    mcp_tools = await server.list_tools()\n",
    "\n",
    "mcp_tools"
   ]
  },
  {
   "cell_type": "code",
   "execution_count": 3,
   "metadata": {},
   "outputs": [],
   "source": [
    "instructions = \"You use your entity tools as a persistent memory to store and recall information about your conversations.\"\n",
    "request = \"My name's Ed. I'm an LLM engineer. I'm teaching a course about AI Agents, including the incredible MCP protocol. \\\n",
    "MCP is a protocol for connecting agents with tools, resources and prompt templates, and makes it easy to integrate AI agents with capabilities.\"\n",
    "model = \"gpt-4.1-mini\""
   ]
  },
  {
   "cell_type": "code",
   "execution_count": 4,
   "metadata": {},
   "outputs": [
    {
     "data": {
      "text/markdown": [
       "Nice to meet you, Ed! It sounds like a fascinating course you're teaching about AI Agents and the MCP protocol. If you want, I can help you with materials, explanations, or any other information related to AI agents or the MCP protocol. Just let me know!"
      ],
      "text/plain": [
       "<IPython.core.display.Markdown object>"
      ]
     },
     "metadata": {},
     "output_type": "display_data"
    }
   ],
   "source": [
    "async with MCPServerStdio(params=params, client_session_timeout_seconds=30) as mcp_server:\n",
    "    agent = Agent(name=\"agent\", instructions=instructions, model=model, mcp_servers=[mcp_server])\n",
    "    with trace(\"conversation\"):\n",
    "        result = await Runner.run(agent, request)\n",
    "    display(Markdown(result.final_output))"
   ]
  },
  {
   "cell_type": "code",
   "execution_count": 5,
   "metadata": {},
   "outputs": [
    {
     "data": {
      "text/markdown": [
       "I don't have any information about you yet, Ed. If you'd like, you can share some details or observations about yourself, and I can store that information for future reference."
      ],
      "text/plain": [
       "<IPython.core.display.Markdown object>"
      ]
     },
     "metadata": {},
     "output_type": "display_data"
    }
   ],
   "source": [
    "async with MCPServerStdio(params=params, client_session_timeout_seconds=30) as mcp_server:\n",
    "    agent = Agent(name=\"agent\", instructions=instructions, model=model, mcp_servers=[mcp_server])\n",
    "    with trace(\"conversation\"):\n",
    "        result = await Runner.run(agent, \"My name's Ed. What do you know about me?\")\n",
    "    display(Markdown(result.final_output))"
   ]
  },
  {
   "cell_type": "markdown",
   "metadata": {},
   "source": [
    "### Check the trace:\n",
    "\n",
    "https://platform.openai.com/traces"
   ]
  },
  {
   "cell_type": "markdown",
   "metadata": {},
   "source": [
    "### The 2nd type of MCP server - runs locally, calls a web service\n",
    "\n",
    "### Brave Search - apologies - this will need another API key! But it's free again.\n",
    "\n",
    "https://brave.com/search/api/\n",
    "\n",
    "Set up your account, and put your key in the .env under `BRAVE_API_KEY`"
   ]
  },
  {
   "cell_type": "code",
   "execution_count": 6,
   "metadata": {},
   "outputs": [
    {
     "data": {
      "text/plain": [
       "[Tool(name='brave_web_search', description='Performs a web search using the Brave Search API, ideal for general queries, news, articles, and online content. Use this for broad information gathering, recent events, or when you need diverse web sources. Supports pagination, content filtering, and freshness controls. Maximum 20 results per request, with offset for pagination. ', inputSchema={'type': 'object', 'properties': {'query': {'type': 'string', 'description': 'Search query (max 400 chars, 50 words)'}, 'count': {'type': 'number', 'description': 'Number of results (1-20, default 10)', 'default': 10}, 'offset': {'type': 'number', 'description': 'Pagination offset (max 9, default 0)', 'default': 0}}, 'required': ['query']}, annotations=None),\n",
       " Tool(name='brave_local_search', description=\"Searches for local businesses and places using Brave's Local Search API. Best for queries related to physical locations, businesses, restaurants, services, etc. Returns detailed information including:\\n- Business names and addresses\\n- Ratings and review counts\\n- Phone numbers and opening hours\\nUse this when the query implies 'near me' or mentions specific locations. Automatically falls back to web search if no local results are found.\", inputSchema={'type': 'object', 'properties': {'query': {'type': 'string', 'description': \"Local search query (e.g. 'pizza near Central Park')\"}, 'count': {'type': 'number', 'description': 'Number of results (1-20, default 5)', 'default': 5}}, 'required': ['query']}, annotations=None)]"
      ]
     },
     "execution_count": 6,
     "metadata": {},
     "output_type": "execute_result"
    }
   ],
   "source": [
    "env = {\"BRAVE_API_KEY\": os.getenv(\"BRAVE_API_KEY\")}\n",
    "params = {\"command\": \"npx\", \"args\": [\"-y\", \"@modelcontextprotocol/server-brave-search\"], \"env\": env}\n",
    "\n",
    "async with MCPServerStdio(params=params, client_session_timeout_seconds=30) as server:\n",
    "    mcp_tools = await server.list_tools()\n",
    "\n",
    "mcp_tools"
   ]
  },
  {
   "cell_type": "code",
   "execution_count": 7,
   "metadata": {},
   "outputs": [],
   "source": [
    "instructions = \"You are able to search the web for information and briefly summarize the takeaways.\"\n",
    "request = f\"Please research the latest news on Amazon stock price and briefly summarize its outlook. \\\n",
    "For context, the current date is {datetime.now().strftime('%Y-%m-%d')}\"\n",
    "model = \"gpt-4o-mini\""
   ]
  },
  {
   "cell_type": "code",
   "execution_count": 8,
   "metadata": {},
   "outputs": [
    {
     "data": {
      "text/markdown": [
       "As of late October 2025, here are the key points regarding Amazon's stock outlook:\n",
       "\n",
       "1. **Current Price**: Amazon's stock (NASDAQ: AMZN) is projected to be around **$230.30** in short-term forecasts.\n",
       "\n",
       "2. **Recent Performance**: The stock has faced volatility this year, particularly with significant drops in August and early October, which saw declines of nearly 10% and 5%, respectively.\n",
       "\n",
       "3. **Next Week's Fluctuation Expectation**: Following an upcoming earnings report, options pricing suggests the stock could move approximately **6.2%** in either direction, indicating potential fluctuations to around **$243.50** by the week's end.\n",
       "\n",
       "4. **Long-Term Predictions**: Analysts suggest a range of scenarios for Amazon's performance through 2030, with predictions generally leaning towards a price of **$524.67** by 2030, assuming continued revenue growth but more competitive pressures, particularly in its AWS sector.\n",
       "\n",
       "5. **Overall Market Sentiment**: While growth is anticipated, there are concerns about compressed margins due to increased competition, particularly in cloud services.\n",
       "\n",
       "In summary, while short-term volatility is expected, analysts maintain a generally optimistic long-term growth outlook for Amazon stock."
      ],
      "text/plain": [
       "<IPython.core.display.Markdown object>"
      ]
     },
     "metadata": {},
     "output_type": "display_data"
    }
   ],
   "source": [
    "async with MCPServerStdio(params=params, client_session_timeout_seconds=30) as mcp_server:\n",
    "    agent = Agent(name=\"agent\", instructions=instructions, model=model, mcp_servers=[mcp_server])\n",
    "    with trace(\"conversation\"):\n",
    "        result = await Runner.run(agent, request)\n",
    "    display(Markdown(result.final_output))"
   ]
  },
  {
   "cell_type": "markdown",
   "metadata": {},
   "source": [
    "### As usual, check out the trace:\n",
    "\n",
    "https://platform.openai.com/traces"
   ]
  },
  {
   "cell_type": "markdown",
   "metadata": {},
   "source": [
    "## And now the third type: running remotely\n",
    "\n",
    "It's actually really hard to find a \"remote MCP server\" aka \"hosted MCP server\" aka \"managed MCP server\".\n",
    "\n",
    "It's not a common model for using or sharing MCP servers, and there isn't a standard way to discover remote MCP servers.\n",
    "\n",
    "Anthropic lists some remote MCP servers, but these are for paid applications with business users:\n",
    "\n",
    "https://docs.anthropic.com/en/docs/agents-and-tools/remote-mcp-servers\n",
    "\n",
    "CloudFlare has tooling for you to create and deploy your own remote MCP servers, but this does not seem to be a common practice:\n",
    "\n",
    "https://developers.cloudflare.com/agents/guides/remote-mcp-server/\n"
   ]
  },
  {
   "cell_type": "markdown",
   "metadata": {},
   "source": [
    "# And back to the 2nd type: the Polygon.io MCP Server"
   ]
  },
  {
   "cell_type": "markdown",
   "metadata": {},
   "source": [
    "<table style=\"margin: 0; text-align: left; width:100%\">\n",
    "    <tr>\n",
    "        <td style=\"width: 150px; height: 150px; vertical-align: middle;\">\n",
    "            <img src=\"../assets/stop.png\" width=\"150\" height=\"150\" style=\"display: block;\" />\n",
    "        </td>\n",
    "        <td>\n",
    "            <h2 style=\"color:#ff7800;\">PLEASE READ!!-</h2>\n",
    "            <span style=\"color:#ff7800;\">This service for financial market data has both a FREE plan and a PAID plan, and we can use either depending on your appetite.\n",
    "            </span>\n",
    "        </td>\n",
    "    </tr>\n",
    "</table>"
   ]
  },
  {
   "cell_type": "markdown",
   "metadata": {},
   "source": [
    "## NEW SECTION: Introducing polygon.io\n",
    "\n",
    "Polygon.io is a hugely popular financial data provider. It has a free plan and a paid plan. And it also has an MCP Server!\n",
    "\n",
    "First, read up on polygon.io on their excellent website, including looking at their pricing:\n",
    "\n",
    "https://polygon.io\n",
    "\n",
    "### Polygon.io Part 1: Polygon.io free service (the paid will be totally optional, of course!)\n",
    "\n",
    "1. Please sign up for polygon.io (top right)  \n",
    "2. Once signed in, please select \"Keys\" in the left hand navigation\n",
    "3. Press the blue \"New Key\" button\n",
    "4. Copy the key name\n",
    "5. Edit your .env file and add the row:\n",
    "\n",
    "`POLYGON_API_KEY=xxxx`"
   ]
  },
  {
   "cell_type": "code",
   "execution_count": 9,
   "metadata": {},
   "outputs": [],
   "source": [
    "load_dotenv(override=True)\n",
    "polygon_api_key = os.getenv(\"POLYGON_API_KEY\")\n",
    "if not polygon_api_key:\n",
    "    print(\"POLYGON_API_KEY is not set\")"
   ]
  },
  {
   "cell_type": "code",
   "execution_count": 10,
   "metadata": {},
   "outputs": [
    {
     "data": {
      "text/plain": [
       "PreviousCloseAgg(ticker='AAPL', close=269.7, high=271.41, low=267.11, open=269.275, timestamp=1761768000000, volume=51086742.0, vwap=269.5125)"
      ]
     },
     "execution_count": 10,
     "metadata": {},
     "output_type": "execute_result"
    }
   ],
   "source": [
    "from polygon import RESTClient\n",
    "client = RESTClient(polygon_api_key)\n",
    "client.get_previous_close_agg(\"AAPL\")[0]"
   ]
  },
  {
   "cell_type": "markdown",
   "metadata": {},
   "source": [
    "### Wrapped into a python module that caches end of day prices\n",
    "\n",
    "I've made a python module `market.py` that uses this API to look up share prices.\n",
    "\n",
    "But the free API is quite heavily rate limited - so I've been a bit sneaky; when you ask for a share price, this function retrieves the entire end-of-day equity market, and caches it in our database.\n"
   ]
  },
  {
   "cell_type": "code",
   "execution_count": 11,
   "metadata": {},
   "outputs": [
    {
     "data": {
      "text/plain": [
       "269.7"
      ]
     },
     "execution_count": 11,
     "metadata": {},
     "output_type": "execute_result"
    }
   ],
   "source": [
    "from market import get_share_price\n",
    "get_share_price(\"AAPL\")"
   ]
  },
  {
   "cell_type": "code",
   "execution_count": 12,
   "metadata": {},
   "outputs": [
    {
     "data": {
      "text/plain": [
       "269.7"
      ]
     },
     "execution_count": 12,
     "metadata": {},
     "output_type": "execute_result"
    }
   ],
   "source": [
    "# no rate limiting concerns!\n",
    "\n",
    "for i in range(1000):\n",
    "    get_share_price(\"AAPL\")\n",
    "get_share_price(\"AAPL\")"
   ]
  },
  {
   "cell_type": "markdown",
   "metadata": {},
   "source": [
    "### And I've made this into an MCP Server\n",
    "\n",
    "Just as we did with accounts.py; see `market_server.py`"
   ]
  },
  {
   "cell_type": "code",
   "execution_count": 13,
   "metadata": {},
   "outputs": [
    {
     "data": {
      "text/plain": [
       "[Tool(name='lookup_share_price', description='This tool provides the current price of the given stock symbol.\\n\\n    Args:\\n        symbol: the symbol of the stock\\n    ', inputSchema={'properties': {'symbol': {'title': 'Symbol', 'type': 'string'}}, 'required': ['symbol'], 'title': 'lookup_share_priceArguments', 'type': 'object'}, annotations=None)]"
      ]
     },
     "execution_count": 13,
     "metadata": {},
     "output_type": "execute_result"
    }
   ],
   "source": [
    "params = {\"command\": \"uv\", \"args\": [\"run\", \"market_server.py\"]}\n",
    "async with MCPServerStdio(params=params, client_session_timeout_seconds=60) as server:\n",
    "    mcp_tools = await server.list_tools()\n",
    "mcp_tools"
   ]
  },
  {
   "cell_type": "markdown",
   "metadata": {},
   "source": [
    "### Let's try it out!\n",
    "\n",
    "Hopefully gpt-4o-mini is smart enough to know that the symbol for Apple is AAPL"
   ]
  },
  {
   "cell_type": "code",
   "execution_count": 14,
   "metadata": {},
   "outputs": [
    {
     "data": {
      "text/markdown": [
       "The current share price of Apple (AAPL) is $269.70."
      ],
      "text/plain": [
       "<IPython.core.display.Markdown object>"
      ]
     },
     "metadata": {},
     "output_type": "display_data"
    }
   ],
   "source": [
    "instructions = \"You answer questions about the stock market.\"\n",
    "request = \"What's the share price of Apple?\"\n",
    "model = \"gpt-4.1-mini\"\n",
    "\n",
    "async with MCPServerStdio(params=params, client_session_timeout_seconds=60) as mcp_server:\n",
    "    agent = Agent(name=\"agent\", instructions=instructions, model=model, mcp_servers=[mcp_server])\n",
    "    with trace(\"conversation\"):\n",
    "        result = await Runner.run(agent, request)\n",
    "    display(Markdown(result.final_output))"
   ]
  },
  {
   "cell_type": "markdown",
   "metadata": {},
   "source": [
    "## Polygon.io Part 2: Paid Plan - Totally Optional!\n",
    "\n",
    "If you are interested, you can subscribe to the monthly plan to get more up to date market data, and unlimited API calls.\n",
    "\n",
    "If you do wish to do this, then it also makes sense to use the full MCP server that Polygon.io has released, to take advantage of all their functionality.\n",
    "\n"
   ]
  },
  {
   "cell_type": "code",
   "execution_count": 15,
   "metadata": {},
   "outputs": [
    {
     "data": {
      "text/plain": [
       "[Tool(name='get_aggs', description='\\n    List aggregate bars for a ticker over a given date range in custom time window sizes.\\n    ', inputSchema={'properties': {'ticker': {'title': 'Ticker', 'type': 'string'}, 'multiplier': {'title': 'Multiplier', 'type': 'integer'}, 'timespan': {'title': 'Timespan', 'type': 'string'}, 'from_': {'anyOf': [{'type': 'string'}, {'type': 'integer'}, {'format': 'date-time', 'type': 'string'}, {'format': 'date', 'type': 'string'}], 'title': 'From'}, 'to': {'anyOf': [{'type': 'string'}, {'type': 'integer'}, {'format': 'date-time', 'type': 'string'}, {'format': 'date', 'type': 'string'}], 'title': 'To'}, 'adjusted': {'anyOf': [{'type': 'boolean'}, {'type': 'null'}], 'default': None, 'title': 'Adjusted'}, 'sort': {'anyOf': [{'type': 'string'}, {'type': 'null'}], 'default': None, 'title': 'Sort'}, 'limit': {'anyOf': [{'type': 'integer'}, {'type': 'null'}], 'default': None, 'title': 'Limit'}, 'params': {'anyOf': [{'additionalProperties': True, 'type': 'object'}, {'type': 'null'}], 'default': None, 'title': 'Params'}}, 'required': ['ticker', 'multiplier', 'timespan', 'from_', 'to'], 'title': 'get_aggsArguments', 'type': 'object'}, annotations=None, outputSchema={'properties': {'result': {'additionalProperties': True, 'title': 'Result', 'type': 'object'}}, 'required': ['result'], 'title': 'get_aggsOutput', 'type': 'object'}),\n",
       " Tool(name='list_aggs', description='\\n    Iterate through aggregate bars for a ticker over a given date range.\\n    ', inputSchema={'properties': {'ticker': {'title': 'Ticker', 'type': 'string'}, 'multiplier': {'title': 'Multiplier', 'type': 'integer'}, 'timespan': {'title': 'Timespan', 'type': 'string'}, 'from_': {'anyOf': [{'type': 'string'}, {'type': 'integer'}, {'format': 'date-time', 'type': 'string'}, {'format': 'date', 'type': 'string'}], 'title': 'From'}, 'to': {'anyOf': [{'type': 'string'}, {'type': 'integer'}, {'format': 'date-time', 'type': 'string'}, {'format': 'date', 'type': 'string'}], 'title': 'To'}, 'adjusted': {'anyOf': [{'type': 'boolean'}, {'type': 'null'}], 'default': None, 'title': 'Adjusted'}, 'sort': {'anyOf': [{'type': 'string'}, {'type': 'null'}], 'default': None, 'title': 'Sort'}, 'limit': {'anyOf': [{'type': 'integer'}, {'type': 'null'}], 'default': None, 'title': 'Limit'}, 'params': {'anyOf': [{'additionalProperties': True, 'type': 'object'}, {'type': 'null'}], 'default': None, 'title': 'Params'}}, 'required': ['ticker', 'multiplier', 'timespan', 'from_', 'to'], 'title': 'list_aggsArguments', 'type': 'object'}, annotations=None, outputSchema={'properties': {'result': {'additionalProperties': True, 'title': 'Result', 'type': 'object'}}, 'required': ['result'], 'title': 'list_aggsOutput', 'type': 'object'}),\n",
       " Tool(name='get_grouped_daily_aggs', description='\\n    Get grouped daily bars for entire market for a specific date.\\n    ', inputSchema={'properties': {'date': {'title': 'Date', 'type': 'string'}, 'adjusted': {'anyOf': [{'type': 'boolean'}, {'type': 'null'}], 'default': None, 'title': 'Adjusted'}, 'include_otc': {'anyOf': [{'type': 'boolean'}, {'type': 'null'}], 'default': None, 'title': 'Include Otc'}, 'locale': {'anyOf': [{'type': 'string'}, {'type': 'null'}], 'default': None, 'title': 'Locale'}, 'market_type': {'anyOf': [{'type': 'string'}, {'type': 'null'}], 'default': None, 'title': 'Market Type'}, 'params': {'anyOf': [{'additionalProperties': True, 'type': 'object'}, {'type': 'null'}], 'default': None, 'title': 'Params'}}, 'required': ['date'], 'title': 'get_grouped_daily_aggsArguments', 'type': 'object'}, annotations=None, outputSchema={'properties': {'result': {'additionalProperties': True, 'title': 'Result', 'type': 'object'}}, 'required': ['result'], 'title': 'get_grouped_daily_aggsOutput', 'type': 'object'}),\n",
       " Tool(name='get_daily_open_close_agg', description='\\n    Get daily open, close, high, and low for a specific ticker and date.\\n    ', inputSchema={'properties': {'ticker': {'title': 'Ticker', 'type': 'string'}, 'date': {'title': 'Date', 'type': 'string'}, 'adjusted': {'anyOf': [{'type': 'boolean'}, {'type': 'null'}], 'default': None, 'title': 'Adjusted'}, 'params': {'anyOf': [{'additionalProperties': True, 'type': 'object'}, {'type': 'null'}], 'default': None, 'title': 'Params'}}, 'required': ['ticker', 'date'], 'title': 'get_daily_open_close_aggArguments', 'type': 'object'}, annotations=None, outputSchema={'properties': {'result': {'additionalProperties': True, 'title': 'Result', 'type': 'object'}}, 'required': ['result'], 'title': 'get_daily_open_close_aggOutput', 'type': 'object'}),\n",
       " Tool(name='get_previous_close_agg', description=\"\\n    Get previous day's open, close, high, and low for a specific ticker.\\n    \", inputSchema={'properties': {'ticker': {'title': 'Ticker', 'type': 'string'}, 'adjusted': {'anyOf': [{'type': 'boolean'}, {'type': 'null'}], 'default': None, 'title': 'Adjusted'}, 'params': {'anyOf': [{'additionalProperties': True, 'type': 'object'}, {'type': 'null'}], 'default': None, 'title': 'Params'}}, 'required': ['ticker'], 'title': 'get_previous_close_aggArguments', 'type': 'object'}, annotations=None, outputSchema={'properties': {'result': {'additionalProperties': True, 'title': 'Result', 'type': 'object'}}, 'required': ['result'], 'title': 'get_previous_close_aggOutput', 'type': 'object'}),\n",
       " Tool(name='list_trades', description='\\n    Get trades for a ticker symbol.\\n    ', inputSchema={'properties': {'ticker': {'title': 'Ticker', 'type': 'string'}, 'timestamp': {'anyOf': [{'type': 'string'}, {'type': 'integer'}, {'format': 'date-time', 'type': 'string'}, {'format': 'date', 'type': 'string'}, {'type': 'null'}], 'default': None, 'title': 'Timestamp'}, 'timestamp_lt': {'anyOf': [{'type': 'string'}, {'type': 'integer'}, {'format': 'date-time', 'type': 'string'}, {'format': 'date', 'type': 'string'}, {'type': 'null'}], 'default': None, 'title': 'Timestamp Lt'}, 'timestamp_lte': {'anyOf': [{'type': 'string'}, {'type': 'integer'}, {'format': 'date-time', 'type': 'string'}, {'format': 'date', 'type': 'string'}, {'type': 'null'}], 'default': None, 'title': 'Timestamp Lte'}, 'timestamp_gt': {'anyOf': [{'type': 'string'}, {'type': 'integer'}, {'format': 'date-time', 'type': 'string'}, {'format': 'date', 'type': 'string'}, {'type': 'null'}], 'default': None, 'title': 'Timestamp Gt'}, 'timestamp_gte': {'anyOf': [{'type': 'string'}, {'type': 'integer'}, {'format': 'date-time', 'type': 'string'}, {'format': 'date', 'type': 'string'}, {'type': 'null'}], 'default': None, 'title': 'Timestamp Gte'}, 'limit': {'anyOf': [{'type': 'integer'}, {'type': 'null'}], 'default': None, 'title': 'Limit'}, 'sort': {'anyOf': [{'type': 'string'}, {'type': 'null'}], 'default': None, 'title': 'Sort'}, 'order': {'anyOf': [{'type': 'string'}, {'type': 'null'}], 'default': None, 'title': 'Order'}, 'params': {'anyOf': [{'additionalProperties': True, 'type': 'object'}, {'type': 'null'}], 'default': None, 'title': 'Params'}}, 'required': ['ticker'], 'title': 'list_tradesArguments', 'type': 'object'}, annotations=None, outputSchema={'properties': {'result': {'additionalProperties': True, 'title': 'Result', 'type': 'object'}}, 'required': ['result'], 'title': 'list_tradesOutput', 'type': 'object'}),\n",
       " Tool(name='get_last_trade', description='\\n    Get the most recent trade for a ticker symbol.\\n    ', inputSchema={'properties': {'ticker': {'title': 'Ticker', 'type': 'string'}, 'params': {'anyOf': [{'additionalProperties': True, 'type': 'object'}, {'type': 'null'}], 'default': None, 'title': 'Params'}}, 'required': ['ticker'], 'title': 'get_last_tradeArguments', 'type': 'object'}, annotations=None, outputSchema={'properties': {'result': {'additionalProperties': True, 'title': 'Result', 'type': 'object'}}, 'required': ['result'], 'title': 'get_last_tradeOutput', 'type': 'object'}),\n",
       " Tool(name='get_last_crypto_trade', description='\\n    Get the most recent trade for a crypto pair.\\n    ', inputSchema={'properties': {'from_': {'title': 'From', 'type': 'string'}, 'to': {'title': 'To', 'type': 'string'}, 'params': {'anyOf': [{'additionalProperties': True, 'type': 'object'}, {'type': 'null'}], 'default': None, 'title': 'Params'}}, 'required': ['from_', 'to'], 'title': 'get_last_crypto_tradeArguments', 'type': 'object'}, annotations=None, outputSchema={'properties': {'result': {'additionalProperties': True, 'title': 'Result', 'type': 'object'}}, 'required': ['result'], 'title': 'get_last_crypto_tradeOutput', 'type': 'object'}),\n",
       " Tool(name='list_quotes', description='\\n    Get quotes for a ticker symbol.\\n    ', inputSchema={'properties': {'ticker': {'title': 'Ticker', 'type': 'string'}, 'timestamp': {'anyOf': [{'type': 'string'}, {'type': 'integer'}, {'format': 'date-time', 'type': 'string'}, {'format': 'date', 'type': 'string'}, {'type': 'null'}], 'default': None, 'title': 'Timestamp'}, 'timestamp_lt': {'anyOf': [{'type': 'string'}, {'type': 'integer'}, {'format': 'date-time', 'type': 'string'}, {'format': 'date', 'type': 'string'}, {'type': 'null'}], 'default': None, 'title': 'Timestamp Lt'}, 'timestamp_lte': {'anyOf': [{'type': 'string'}, {'type': 'integer'}, {'format': 'date-time', 'type': 'string'}, {'format': 'date', 'type': 'string'}, {'type': 'null'}], 'default': None, 'title': 'Timestamp Lte'}, 'timestamp_gt': {'anyOf': [{'type': 'string'}, {'type': 'integer'}, {'format': 'date-time', 'type': 'string'}, {'format': 'date', 'type': 'string'}, {'type': 'null'}], 'default': None, 'title': 'Timestamp Gt'}, 'timestamp_gte': {'anyOf': [{'type': 'string'}, {'type': 'integer'}, {'format': 'date-time', 'type': 'string'}, {'format': 'date', 'type': 'string'}, {'type': 'null'}], 'default': None, 'title': 'Timestamp Gte'}, 'limit': {'anyOf': [{'type': 'integer'}, {'type': 'null'}], 'default': None, 'title': 'Limit'}, 'sort': {'anyOf': [{'type': 'string'}, {'type': 'null'}], 'default': None, 'title': 'Sort'}, 'order': {'anyOf': [{'type': 'string'}, {'type': 'null'}], 'default': None, 'title': 'Order'}, 'params': {'anyOf': [{'additionalProperties': True, 'type': 'object'}, {'type': 'null'}], 'default': None, 'title': 'Params'}}, 'required': ['ticker'], 'title': 'list_quotesArguments', 'type': 'object'}, annotations=None, outputSchema={'properties': {'result': {'additionalProperties': True, 'title': 'Result', 'type': 'object'}}, 'required': ['result'], 'title': 'list_quotesOutput', 'type': 'object'}),\n",
       " Tool(name='get_last_quote', description='\\n    Get the most recent quote for a ticker symbol.\\n    ', inputSchema={'properties': {'ticker': {'title': 'Ticker', 'type': 'string'}, 'params': {'anyOf': [{'additionalProperties': True, 'type': 'object'}, {'type': 'null'}], 'default': None, 'title': 'Params'}}, 'required': ['ticker'], 'title': 'get_last_quoteArguments', 'type': 'object'}, annotations=None, outputSchema={'properties': {'result': {'additionalProperties': True, 'title': 'Result', 'type': 'object'}}, 'required': ['result'], 'title': 'get_last_quoteOutput', 'type': 'object'}),\n",
       " Tool(name='get_last_forex_quote', description='\\n    Get the most recent forex quote.\\n    ', inputSchema={'properties': {'from_': {'title': 'From', 'type': 'string'}, 'to': {'title': 'To', 'type': 'string'}, 'params': {'anyOf': [{'additionalProperties': True, 'type': 'object'}, {'type': 'null'}], 'default': None, 'title': 'Params'}}, 'required': ['from_', 'to'], 'title': 'get_last_forex_quoteArguments', 'type': 'object'}, annotations=None, outputSchema={'properties': {'result': {'additionalProperties': True, 'title': 'Result', 'type': 'object'}}, 'required': ['result'], 'title': 'get_last_forex_quoteOutput', 'type': 'object'}),\n",
       " Tool(name='get_real_time_currency_conversion', description='\\n    Get real-time currency conversion.\\n    ', inputSchema={'properties': {'from_': {'title': 'From', 'type': 'string'}, 'to': {'title': 'To', 'type': 'string'}, 'amount': {'anyOf': [{'type': 'number'}, {'type': 'null'}], 'default': None, 'title': 'Amount'}, 'precision': {'anyOf': [{'type': 'integer'}, {'type': 'null'}], 'default': None, 'title': 'Precision'}, 'params': {'anyOf': [{'additionalProperties': True, 'type': 'object'}, {'type': 'null'}], 'default': None, 'title': 'Params'}}, 'required': ['from_', 'to'], 'title': 'get_real_time_currency_conversionArguments', 'type': 'object'}, annotations=None, outputSchema={'properties': {'result': {'additionalProperties': True, 'title': 'Result', 'type': 'object'}}, 'required': ['result'], 'title': 'get_real_time_currency_conversionOutput', 'type': 'object'}),\n",
       " Tool(name='list_universal_snapshots', description='\\n    Get universal snapshots for multiple assets of a specific type.\\n    ', inputSchema={'properties': {'type': {'title': 'Type', 'type': 'string'}, 'ticker_any_of': {'anyOf': [{'items': {'type': 'string'}, 'type': 'array'}, {'type': 'null'}], 'default': None, 'title': 'Ticker Any Of'}, 'order': {'anyOf': [{'type': 'string'}, {'type': 'null'}], 'default': None, 'title': 'Order'}, 'limit': {'anyOf': [{'type': 'integer'}, {'type': 'null'}], 'default': None, 'title': 'Limit'}, 'sort': {'anyOf': [{'type': 'string'}, {'type': 'null'}], 'default': None, 'title': 'Sort'}, 'params': {'anyOf': [{'additionalProperties': True, 'type': 'object'}, {'type': 'null'}], 'default': None, 'title': 'Params'}}, 'required': ['type'], 'title': 'list_universal_snapshotsArguments', 'type': 'object'}, annotations=None, outputSchema={'properties': {'result': {'additionalProperties': True, 'title': 'Result', 'type': 'object'}}, 'required': ['result'], 'title': 'list_universal_snapshotsOutput', 'type': 'object'}),\n",
       " Tool(name='get_snapshot_all', description='\\n    Get a snapshot of all tickers in a market.\\n    ', inputSchema={'properties': {'market_type': {'title': 'Market Type', 'type': 'string'}, 'tickers': {'anyOf': [{'items': {'type': 'string'}, 'type': 'array'}, {'type': 'null'}], 'default': None, 'title': 'Tickers'}, 'include_otc': {'anyOf': [{'type': 'boolean'}, {'type': 'null'}], 'default': None, 'title': 'Include Otc'}, 'params': {'anyOf': [{'additionalProperties': True, 'type': 'object'}, {'type': 'null'}], 'default': None, 'title': 'Params'}}, 'required': ['market_type'], 'title': 'get_snapshot_allArguments', 'type': 'object'}, annotations=None, outputSchema={'properties': {'result': {'additionalProperties': True, 'title': 'Result', 'type': 'object'}}, 'required': ['result'], 'title': 'get_snapshot_allOutput', 'type': 'object'}),\n",
       " Tool(name='get_snapshot_direction', description='\\n    Get gainers or losers for a market.\\n    ', inputSchema={'properties': {'market_type': {'title': 'Market Type', 'type': 'string'}, 'direction': {'title': 'Direction', 'type': 'string'}, 'include_otc': {'anyOf': [{'type': 'boolean'}, {'type': 'null'}], 'default': None, 'title': 'Include Otc'}, 'params': {'anyOf': [{'additionalProperties': True, 'type': 'object'}, {'type': 'null'}], 'default': None, 'title': 'Params'}}, 'required': ['market_type', 'direction'], 'title': 'get_snapshot_directionArguments', 'type': 'object'}, annotations=None, outputSchema={'properties': {'result': {'additionalProperties': True, 'title': 'Result', 'type': 'object'}}, 'required': ['result'], 'title': 'get_snapshot_directionOutput', 'type': 'object'}),\n",
       " Tool(name='get_snapshot_ticker', description='\\n    Get snapshot for a specific ticker.\\n    ', inputSchema={'properties': {'market_type': {'title': 'Market Type', 'type': 'string'}, 'ticker': {'title': 'Ticker', 'type': 'string'}, 'params': {'anyOf': [{'additionalProperties': True, 'type': 'object'}, {'type': 'null'}], 'default': None, 'title': 'Params'}}, 'required': ['market_type', 'ticker'], 'title': 'get_snapshot_tickerArguments', 'type': 'object'}, annotations=None, outputSchema={'properties': {'result': {'additionalProperties': True, 'title': 'Result', 'type': 'object'}}, 'required': ['result'], 'title': 'get_snapshot_tickerOutput', 'type': 'object'}),\n",
       " Tool(name='get_snapshot_option', description='\\n    Get snapshot for a specific option contract.\\n    ', inputSchema={'properties': {'underlying_asset': {'title': 'Underlying Asset', 'type': 'string'}, 'option_contract': {'title': 'Option Contract', 'type': 'string'}, 'params': {'anyOf': [{'additionalProperties': True, 'type': 'object'}, {'type': 'null'}], 'default': None, 'title': 'Params'}}, 'required': ['underlying_asset', 'option_contract'], 'title': 'get_snapshot_optionArguments', 'type': 'object'}, annotations=None, outputSchema={'properties': {'result': {'additionalProperties': True, 'title': 'Result', 'type': 'object'}}, 'required': ['result'], 'title': 'get_snapshot_optionOutput', 'type': 'object'}),\n",
       " Tool(name='get_snapshot_crypto_book', description=\"\\n    Get snapshot for a crypto ticker's order book.\\n    \", inputSchema={'properties': {'ticker': {'title': 'Ticker', 'type': 'string'}, 'params': {'anyOf': [{'additionalProperties': True, 'type': 'object'}, {'type': 'null'}], 'default': None, 'title': 'Params'}}, 'required': ['ticker'], 'title': 'get_snapshot_crypto_bookArguments', 'type': 'object'}, annotations=None, outputSchema={'properties': {'result': {'additionalProperties': True, 'title': 'Result', 'type': 'object'}}, 'required': ['result'], 'title': 'get_snapshot_crypto_bookOutput', 'type': 'object'}),\n",
       " Tool(name='get_market_holidays', description='\\n    Get upcoming market holidays and their open/close times.\\n    ', inputSchema={'properties': {'params': {'anyOf': [{'additionalProperties': True, 'type': 'object'}, {'type': 'null'}], 'default': None, 'title': 'Params'}}, 'title': 'get_market_holidaysArguments', 'type': 'object'}, annotations=None, outputSchema={'properties': {'result': {'additionalProperties': True, 'title': 'Result', 'type': 'object'}}, 'required': ['result'], 'title': 'get_market_holidaysOutput', 'type': 'object'}),\n",
       " Tool(name='get_market_status', description='\\n    Get current trading status of exchanges and financial markets.\\n    ', inputSchema={'properties': {'params': {'anyOf': [{'additionalProperties': True, 'type': 'object'}, {'type': 'null'}], 'default': None, 'title': 'Params'}}, 'title': 'get_market_statusArguments', 'type': 'object'}, annotations=None, outputSchema={'properties': {'result': {'additionalProperties': True, 'title': 'Result', 'type': 'object'}}, 'required': ['result'], 'title': 'get_market_statusOutput', 'type': 'object'}),\n",
       " Tool(name='list_tickers', description='\\n    Query supported ticker symbols across stocks, indices, forex, and crypto.\\n    ', inputSchema={'properties': {'ticker': {'anyOf': [{'type': 'string'}, {'type': 'null'}], 'default': None, 'title': 'Ticker'}, 'type': {'anyOf': [{'type': 'string'}, {'type': 'null'}], 'default': None, 'title': 'Type'}, 'market': {'anyOf': [{'type': 'string'}, {'type': 'null'}], 'default': None, 'title': 'Market'}, 'exchange': {'anyOf': [{'type': 'string'}, {'type': 'null'}], 'default': None, 'title': 'Exchange'}, 'cusip': {'anyOf': [{'type': 'string'}, {'type': 'null'}], 'default': None, 'title': 'Cusip'}, 'cik': {'anyOf': [{'type': 'string'}, {'type': 'null'}], 'default': None, 'title': 'Cik'}, 'date': {'anyOf': [{'type': 'string'}, {'format': 'date-time', 'type': 'string'}, {'format': 'date', 'type': 'string'}, {'type': 'null'}], 'default': None, 'title': 'Date'}, 'search': {'anyOf': [{'type': 'string'}, {'type': 'null'}], 'default': None, 'title': 'Search'}, 'active': {'anyOf': [{'type': 'boolean'}, {'type': 'null'}], 'default': None, 'title': 'Active'}, 'sort': {'anyOf': [{'type': 'string'}, {'type': 'null'}], 'default': None, 'title': 'Sort'}, 'order': {'anyOf': [{'type': 'string'}, {'type': 'null'}], 'default': None, 'title': 'Order'}, 'limit': {'anyOf': [{'type': 'integer'}, {'type': 'null'}], 'default': None, 'title': 'Limit'}, 'params': {'anyOf': [{'additionalProperties': True, 'type': 'object'}, {'type': 'null'}], 'default': None, 'title': 'Params'}}, 'title': 'list_tickersArguments', 'type': 'object'}, annotations=None, outputSchema={'properties': {'result': {'additionalProperties': True, 'title': 'Result', 'type': 'object'}}, 'required': ['result'], 'title': 'list_tickersOutput', 'type': 'object'}),\n",
       " Tool(name='get_ticker_details', description='\\n    Get detailed information about a specific ticker.\\n    ', inputSchema={'properties': {'ticker': {'title': 'Ticker', 'type': 'string'}, 'date': {'anyOf': [{'type': 'string'}, {'format': 'date-time', 'type': 'string'}, {'format': 'date', 'type': 'string'}, {'type': 'null'}], 'default': None, 'title': 'Date'}, 'params': {'anyOf': [{'additionalProperties': True, 'type': 'object'}, {'type': 'null'}], 'default': None, 'title': 'Params'}}, 'required': ['ticker'], 'title': 'get_ticker_detailsArguments', 'type': 'object'}, annotations=None, outputSchema={'properties': {'result': {'additionalProperties': True, 'title': 'Result', 'type': 'object'}}, 'required': ['result'], 'title': 'get_ticker_detailsOutput', 'type': 'object'}),\n",
       " Tool(name='list_ticker_news', description='\\n    Get recent news articles for a stock ticker.\\n    ', inputSchema={'properties': {'ticker': {'anyOf': [{'type': 'string'}, {'type': 'null'}], 'default': None, 'title': 'Ticker'}, 'published_utc': {'anyOf': [{'type': 'string'}, {'format': 'date-time', 'type': 'string'}, {'format': 'date', 'type': 'string'}, {'type': 'null'}], 'default': None, 'title': 'Published Utc'}, 'limit': {'anyOf': [{'type': 'integer'}, {'type': 'null'}], 'default': None, 'title': 'Limit'}, 'sort': {'anyOf': [{'type': 'string'}, {'type': 'null'}], 'default': None, 'title': 'Sort'}, 'order': {'anyOf': [{'type': 'string'}, {'type': 'null'}], 'default': None, 'title': 'Order'}, 'params': {'anyOf': [{'additionalProperties': True, 'type': 'object'}, {'type': 'null'}], 'default': None, 'title': 'Params'}}, 'title': 'list_ticker_newsArguments', 'type': 'object'}, annotations=None, outputSchema={'properties': {'result': {'additionalProperties': True, 'title': 'Result', 'type': 'object'}}, 'required': ['result'], 'title': 'list_ticker_newsOutput', 'type': 'object'}),\n",
       " Tool(name='get_ticker_types', description='\\n    List all ticker types supported by Polygon.io.\\n    ', inputSchema={'properties': {'asset_class': {'anyOf': [{'type': 'string'}, {'type': 'null'}], 'default': None, 'title': 'Asset Class'}, 'locale': {'anyOf': [{'type': 'string'}, {'type': 'null'}], 'default': None, 'title': 'Locale'}, 'params': {'anyOf': [{'additionalProperties': True, 'type': 'object'}, {'type': 'null'}], 'default': None, 'title': 'Params'}}, 'title': 'get_ticker_typesArguments', 'type': 'object'}, annotations=None, outputSchema={'properties': {'result': {'additionalProperties': True, 'title': 'Result', 'type': 'object'}}, 'required': ['result'], 'title': 'get_ticker_typesOutput', 'type': 'object'}),\n",
       " Tool(name='list_splits', description='\\n    Get historical stock splits.\\n    ', inputSchema={'properties': {'ticker': {'anyOf': [{'type': 'string'}, {'type': 'null'}], 'default': None, 'title': 'Ticker'}, 'execution_date': {'anyOf': [{'type': 'string'}, {'format': 'date-time', 'type': 'string'}, {'format': 'date', 'type': 'string'}, {'type': 'null'}], 'default': None, 'title': 'Execution Date'}, 'reverse_split': {'anyOf': [{'type': 'boolean'}, {'type': 'null'}], 'default': None, 'title': 'Reverse Split'}, 'limit': {'anyOf': [{'type': 'integer'}, {'type': 'null'}], 'default': None, 'title': 'Limit'}, 'params': {'anyOf': [{'additionalProperties': True, 'type': 'object'}, {'type': 'null'}], 'default': None, 'title': 'Params'}}, 'title': 'list_splitsArguments', 'type': 'object'}, annotations=None, outputSchema={'properties': {'result': {'additionalProperties': True, 'title': 'Result', 'type': 'object'}}, 'required': ['result'], 'title': 'list_splitsOutput', 'type': 'object'}),\n",
       " Tool(name='list_dividends', description='\\n    Get historical cash dividends.\\n    ', inputSchema={'properties': {'ticker': {'anyOf': [{'type': 'string'}, {'type': 'null'}], 'default': None, 'title': 'Ticker'}, 'ex_dividend_date': {'anyOf': [{'type': 'string'}, {'format': 'date-time', 'type': 'string'}, {'format': 'date', 'type': 'string'}, {'type': 'null'}], 'default': None, 'title': 'Ex Dividend Date'}, 'frequency': {'anyOf': [{'type': 'integer'}, {'type': 'null'}], 'default': None, 'title': 'Frequency'}, 'dividend_type': {'anyOf': [{'type': 'string'}, {'type': 'null'}], 'default': None, 'title': 'Dividend Type'}, 'limit': {'anyOf': [{'type': 'integer'}, {'type': 'null'}], 'default': None, 'title': 'Limit'}, 'params': {'anyOf': [{'additionalProperties': True, 'type': 'object'}, {'type': 'null'}], 'default': None, 'title': 'Params'}}, 'title': 'list_dividendsArguments', 'type': 'object'}, annotations=None, outputSchema={'properties': {'result': {'additionalProperties': True, 'title': 'Result', 'type': 'object'}}, 'required': ['result'], 'title': 'list_dividendsOutput', 'type': 'object'}),\n",
       " Tool(name='list_conditions', description='\\n    List conditions used by Polygon.io.\\n    ', inputSchema={'properties': {'asset_class': {'anyOf': [{'type': 'string'}, {'type': 'null'}], 'default': None, 'title': 'Asset Class'}, 'data_type': {'anyOf': [{'type': 'string'}, {'type': 'null'}], 'default': None, 'title': 'Data Type'}, 'id': {'anyOf': [{'type': 'integer'}, {'type': 'null'}], 'default': None, 'title': 'Id'}, 'sip': {'anyOf': [{'type': 'string'}, {'type': 'null'}], 'default': None, 'title': 'Sip'}, 'params': {'anyOf': [{'additionalProperties': True, 'type': 'object'}, {'type': 'null'}], 'default': None, 'title': 'Params'}}, 'title': 'list_conditionsArguments', 'type': 'object'}, annotations=None, outputSchema={'properties': {'result': {'additionalProperties': True, 'title': 'Result', 'type': 'object'}}, 'required': ['result'], 'title': 'list_conditionsOutput', 'type': 'object'}),\n",
       " Tool(name='get_exchanges', description='\\n    List exchanges known by Polygon.io.\\n    ', inputSchema={'properties': {'asset_class': {'anyOf': [{'type': 'string'}, {'type': 'null'}], 'default': None, 'title': 'Asset Class'}, 'locale': {'anyOf': [{'type': 'string'}, {'type': 'null'}], 'default': None, 'title': 'Locale'}, 'params': {'anyOf': [{'additionalProperties': True, 'type': 'object'}, {'type': 'null'}], 'default': None, 'title': 'Params'}}, 'title': 'get_exchangesArguments', 'type': 'object'}, annotations=None, outputSchema={'properties': {'result': {'additionalProperties': True, 'title': 'Result', 'type': 'object'}}, 'required': ['result'], 'title': 'get_exchangesOutput', 'type': 'object'}),\n",
       " Tool(name='list_stock_financials', description='\\n    Get fundamental financial data for companies.\\n    ', inputSchema={'properties': {'ticker': {'anyOf': [{'type': 'string'}, {'type': 'null'}], 'default': None, 'title': 'Ticker'}, 'cik': {'anyOf': [{'type': 'string'}, {'type': 'null'}], 'default': None, 'title': 'Cik'}, 'company_name': {'anyOf': [{'type': 'string'}, {'type': 'null'}], 'default': None, 'title': 'Company Name'}, 'company_name_search': {'anyOf': [{'type': 'string'}, {'type': 'null'}], 'default': None, 'title': 'Company Name Search'}, 'sic': {'anyOf': [{'type': 'string'}, {'type': 'null'}], 'default': None, 'title': 'Sic'}, 'filing_date': {'anyOf': [{'type': 'string'}, {'format': 'date-time', 'type': 'string'}, {'format': 'date', 'type': 'string'}, {'type': 'null'}], 'default': None, 'title': 'Filing Date'}, 'filing_date_lt': {'anyOf': [{'type': 'string'}, {'format': 'date-time', 'type': 'string'}, {'format': 'date', 'type': 'string'}, {'type': 'null'}], 'default': None, 'title': 'Filing Date Lt'}, 'filing_date_lte': {'anyOf': [{'type': 'string'}, {'format': 'date-time', 'type': 'string'}, {'format': 'date', 'type': 'string'}, {'type': 'null'}], 'default': None, 'title': 'Filing Date Lte'}, 'filing_date_gt': {'anyOf': [{'type': 'string'}, {'format': 'date-time', 'type': 'string'}, {'format': 'date', 'type': 'string'}, {'type': 'null'}], 'default': None, 'title': 'Filing Date Gt'}, 'filing_date_gte': {'anyOf': [{'type': 'string'}, {'format': 'date-time', 'type': 'string'}, {'format': 'date', 'type': 'string'}, {'type': 'null'}], 'default': None, 'title': 'Filing Date Gte'}, 'period_of_report_date': {'anyOf': [{'type': 'string'}, {'format': 'date-time', 'type': 'string'}, {'format': 'date', 'type': 'string'}, {'type': 'null'}], 'default': None, 'title': 'Period Of Report Date'}, 'period_of_report_date_lt': {'anyOf': [{'type': 'string'}, {'format': 'date-time', 'type': 'string'}, {'format': 'date', 'type': 'string'}, {'type': 'null'}], 'default': None, 'title': 'Period Of Report Date Lt'}, 'period_of_report_date_lte': {'anyOf': [{'type': 'string'}, {'format': 'date-time', 'type': 'string'}, {'format': 'date', 'type': 'string'}, {'type': 'null'}], 'default': None, 'title': 'Period Of Report Date Lte'}, 'period_of_report_date_gt': {'anyOf': [{'type': 'string'}, {'format': 'date-time', 'type': 'string'}, {'format': 'date', 'type': 'string'}, {'type': 'null'}], 'default': None, 'title': 'Period Of Report Date Gt'}, 'period_of_report_date_gte': {'anyOf': [{'type': 'string'}, {'format': 'date-time', 'type': 'string'}, {'format': 'date', 'type': 'string'}, {'type': 'null'}], 'default': None, 'title': 'Period Of Report Date Gte'}, 'timeframe': {'anyOf': [{'type': 'string'}, {'type': 'null'}], 'default': None, 'title': 'Timeframe'}, 'include_sources': {'anyOf': [{'type': 'boolean'}, {'type': 'null'}], 'default': None, 'title': 'Include Sources'}, 'limit': {'anyOf': [{'type': 'integer'}, {'type': 'null'}], 'default': None, 'title': 'Limit'}, 'sort': {'anyOf': [{'type': 'string'}, {'type': 'null'}], 'default': None, 'title': 'Sort'}, 'order': {'anyOf': [{'type': 'string'}, {'type': 'null'}], 'default': None, 'title': 'Order'}, 'params': {'anyOf': [{'additionalProperties': True, 'type': 'object'}, {'type': 'null'}], 'default': None, 'title': 'Params'}}, 'title': 'list_stock_financialsArguments', 'type': 'object'}, annotations=None, outputSchema={'properties': {'result': {'additionalProperties': True, 'title': 'Result', 'type': 'object'}}, 'required': ['result'], 'title': 'list_stock_financialsOutput', 'type': 'object'})]"
      ]
     },
     "execution_count": 15,
     "metadata": {},
     "output_type": "execute_result"
    }
   ],
   "source": [
    "\n",
    "params = {\"command\": \"uvx\",\n",
    "          \"args\": [\"--from\", \"git+https://github.com/polygon-io/mcp_polygon@v0.1.0\", \"mcp_polygon\"],\n",
    "          \"env\": {\"POLYGON_API_KEY\": polygon_api_key}\n",
    "          }\n",
    "async with MCPServerStdio(params=params, client_session_timeout_seconds=60) as server:\n",
    "    mcp_tools = await server.list_tools()\n",
    "mcp_tools\n"
   ]
  },
  {
   "cell_type": "markdown",
   "metadata": {},
   "source": [
    "### Wow that's a lot of tools!\n",
    "\n",
    "Let's try them out - hopefully the sheer number of tools doesn't overwhelm gpt-4o-mini!\n",
    "\n",
    "With the $29 monthly plan, we don't have access to some of the APIs, so I've needed to specify which APIs can be called.\n",
    "\n",
    "If you've splashed out on a bigger plan, feel free to remove my extra constraint.."
   ]
  },
  {
   "cell_type": "code",
   "execution_count": 16,
   "metadata": {},
   "outputs": [
    {
     "data": {
      "text/markdown": [
       "I am currently unable to access the latest share price for Apple (AAPL) due to authorization restrictions. You may want to check a financial website or stock market app for the real-time price. If you have any other questions or need information I can access, feel free to ask!"
      ],
      "text/plain": [
       "<IPython.core.display.Markdown object>"
      ]
     },
     "metadata": {},
     "output_type": "display_data"
    }
   ],
   "source": [
    "instructions = \"You answer questions about the stock market.\"\n",
    "request = \"What's the share price of Apple? Use your get_snapshot_ticker tool to get the latest price.\"\n",
    "model = \"gpt-4.1-mini\"\n",
    "\n",
    "async with MCPServerStdio(params=params, client_session_timeout_seconds=60) as mcp_server:\n",
    "    agent = Agent(name=\"agent\", instructions=instructions, model=model, mcp_servers=[mcp_server])\n",
    "    with trace(\"conversation\"):\n",
    "        result = await Runner.run(agent, request)\n",
    "    display(Markdown(result.final_output))"
   ]
  },
  {
   "cell_type": "markdown",
   "metadata": {},
   "source": [
    "## Setting up your .env file\n",
    "\n",
    "If you do decide to have a paid plan, please add this to your .env file to indicate:\n",
    "\n",
    "`POLYGON_PLAN=paid`\n",
    "\n",
    "And if you decide to go all the way for the realtime API, then please do:\n",
    "\n",
    "`POLYGON_PLAN=realtime`"
   ]
  },
  {
   "cell_type": "code",
   "execution_count": 17,
   "metadata": {},
   "outputs": [
    {
     "name": "stdout",
     "output_type": "stream",
     "text": [
      "According to your .env file, you've chosen to subscribe to the free Polygon plan, so the code will look at EOD prices\n"
     ]
    }
   ],
   "source": [
    "load_dotenv(override=True)\n",
    "\n",
    "polygon_plan = os.getenv(\"POLYGON_PLAN\")\n",
    "is_paid_polygon = polygon_plan == \"paid\"\n",
    "is_realtime_polygon = polygon_plan == \"realtime\"\n",
    "\n",
    "if is_paid_polygon:\n",
    "    print(\"You've chosen to subscribe to the paid Polygon plan, so the code will look at prices on a 15 min delay\")\n",
    "elif is_realtime_polygon:\n",
    "    print(\"Wowzer - you've chosen to subscribe to the realtime Polygon plan, so the code will look at realtime prices\")\n",
    "else:\n",
    "    print(\"According to your .env file, you've chosen to subscribe to the free Polygon plan, so the code will look at EOD prices\")"
   ]
  },
  {
   "cell_type": "markdown",
   "metadata": {},
   "source": [
    "## And that's it for today!\n",
    "\n",
    "I've removed the part of this lab that uses the \"Financial Datasets\" mcp server, because it's inferior - more expensive with fewer APIs.\n",
    "\n",
    "And this way we get to use the same provider for Free and Paid APIs.\n",
    "\n",
    "But if you want to see the code, just look in the git history for a prior version."
   ]
  },
  {
   "cell_type": "markdown",
   "metadata": {},
   "source": [
    "<table style=\"margin: 0; text-align: left; width:100%\">\n",
    "    <tr>\n",
    "        <td style=\"width: 150px; height: 150px; vertical-align: middle;\">\n",
    "            <img src=\"../assets/exercise.png\" width=\"150\" height=\"150\" style=\"display: block;\" />\n",
    "        </td>\n",
    "        <td>\n",
    "            <h2 style=\"color:#ff7800;\">Exercises</h2>\n",
    "            <span style=\"color:#ff7800;\">Explore MCP server marketplaces and integrate your own, using all 3 approaches.\n",
    "            </span>\n",
    "        </td>\n",
    "    </tr>\n",
    "</table>"
   ]
  }
 ],
 "metadata": {
  "kernelspec": {
   "display_name": ".venv",
   "language": "python",
   "name": "python3"
  },
  "language_info": {
   "codemirror_mode": {
    "name": "ipython",
    "version": 3
   },
   "file_extension": ".py",
   "mimetype": "text/x-python",
   "name": "python",
   "nbconvert_exporter": "python",
   "pygments_lexer": "ipython3",
   "version": "3.12.0"
  }
 },
 "nbformat": 4,
 "nbformat_minor": 2
}
